{
 "cells": [
  {
   "cell_type": "code",
   "execution_count": 32,
   "metadata": {},
   "outputs": [],
   "source": [
    "from sklearn import datasets\n",
    "import pandas as pd\n",
    "import numpy as np\n",
    "import matplotlib.pyplot as plt\n",
    "from sklearn.neighbors import KNeighborsClassifier\n",
    "from sklearn.model_selection import train_test_split\n",
    "from sklearn.linear_model import LinearRegression\n",
    "from sklearn.metrics import mean_squared_error\n",
    "from sklearn.model_selection import cross_val_score\n",
    "from sklearn.metrics import classification_report, confusion_matrix\n",
    "from sklearn.linear_model import LogisticRegression\n",
    "from fitter import Fitter\n",
    "from sklearn.impute import SimpleImputer\n",
    "from sklearn import preprocessing\n",
    "from sklearn import utils\n",
    "from sklearn.experimental import enable_iterative_imputer\n",
    "from sklearn.impute import IterativeImputer \n",
    "from sklearn.preprocessing import OneHotEncoder\n",
    "from sklearn.impute import KNNImputer\n",
    "import missingno as msno\n",
    "from sklearn.linear_model import Lasso\n",
    "from sklearn.linear_model import Ridge\n",
    "from sklearn.metrics import roc_auc_score\n",
    "\n",
    "pd.options.display.max_columns = None\n",
    "pd.options.display.max_rows = None"
   ]
  },
  {
   "cell_type": "code",
   "execution_count": 3,
   "metadata": {},
   "outputs": [],
   "source": [
    " #Carga de los archivos\n",
    " \n",
    "df= pd.read_csv(r'C:\\Users\\Lonelywolf\\Documents\\PI_02\\Datathon\\properties_colombia_train.csv')\n",
    "df_test=pd.read_csv(r'C:\\Users\\Lonelywolf\\Documents\\PI_02\\Datathon\\properties_colombia_test.csv')"
   ]
  },
  {
   "cell_type": "code",
   "execution_count": 4,
   "metadata": {},
   "outputs": [],
   "source": [
    "#Eliminamos las columnas que no vamos a utilizar\n",
    "\n",
    "df.drop(columns= ['id', 'l1', 'l5', 'l6', 'surface_covered','surface_total','l4','operation_type','description', 'title', 'price_period','created_on','end_date','ad_type','start_date','geometry'], inplace=(True))\n",
    "df_test.drop(columns= ['id', 'l1', 'l5', 'l6', 'surface_covered','surface_total','l4','operation_type','description', 'title', 'price_period','created_on','end_date','ad_type','start_date','geometry'], inplace=(True))"
   ]
  },
  {
   "cell_type": "code",
   "execution_count": 5,
   "metadata": {},
   "outputs": [],
   "source": [
    "df.drop(columns= ['l2', 'l3',], inplace=(True))\n",
    "df_test.drop(columns= ['l2', 'l3'], inplace=(True))"
   ]
  },
  {
   "cell_type": "code",
   "execution_count": 6,
   "metadata": {},
   "outputs": [],
   "source": [
    "# Rellenamos los valores nulos con el promedio de los valores de la tabla precio\n",
    "\n",
    "df['price'].fillna(643605091, inplace=True)"
   ]
  },
  {
   "cell_type": "code",
   "execution_count": 7,
   "metadata": {},
   "outputs": [],
   "source": [
    "# Reemplazamos el valor \"-2147483648\" repetido varias veces con un valor con valores con la misma cantida de digitos\n",
    "\n",
    "df['price'].replace(-2147483648, np.random.uniform(2000000000, 400000000), inplace=True)\n",
    "df['price']= df['price'].astype(int)"
   ]
  },
  {
   "cell_type": "code",
   "execution_count": 8,
   "metadata": {},
   "outputs": [],
   "source": [
    "# Reemplazamos el tipo de moneda\n",
    "\n",
    "df['currency'].replace('USD', 'COP', inplace=True)\n",
    "df_test['currency'].replace('USD', 'COP', inplace=True)"
   ]
  },
  {
   "cell_type": "code",
   "execution_count": 9,
   "metadata": {},
   "outputs": [],
   "source": [
    "# Rellenamos los valores nulos de las columnas con 0\n",
    "\n",
    "df['rooms'].fillna(0, inplace=True)\n",
    "df['bedrooms'].fillna(0, inplace=True)\n",
    "df['bathrooms'].fillna(0, inplace=True)\n",
    "\n",
    "df_test['bedrooms'].fillna(0, inplace=True)\n",
    "df_test['rooms'].fillna(0, inplace=True)\n",
    "df_test['bathrooms'].fillna(0, inplace=True)"
   ]
  },
  {
   "cell_type": "code",
   "execution_count": 10,
   "metadata": {},
   "outputs": [],
   "source": [
    "# Sumamos los valores de las columnas \"bedrooms\" y \"bathrooms\" a la columa \"rooms\" y le sumamos su promedio para tener una columna unificada\n",
    "\n",
    "df['rooms']= df['rooms'] + df['bedrooms']+ df['bathrooms']\n",
    "df['rooms']= df['rooms'] + df['rooms'].mean()\n",
    "df['rooms']= df['rooms'].astype(int)\n",
    "\n",
    "df_test['rooms']= df_test['rooms'] + df_test['bedrooms']+ df_test['bathrooms']\n",
    "df_test['rooms']= df_test['rooms'] + df_test['rooms'].mean()\n",
    "df_test['rooms']= df_test['rooms'].astype(int)"
   ]
  },
  {
   "cell_type": "code",
   "execution_count": 11,
   "metadata": {},
   "outputs": [],
   "source": [
    "# Eliminamos las columnas \"bathrooms\", \"bedrooms\"\n",
    "\n",
    "df.drop(columns=['bathrooms', 'bedrooms'], inplace=True)\n",
    "df_test.drop(columns=['bathrooms', 'bedrooms'], inplace=True)"
   ]
  },
  {
   "cell_type": "code",
   "execution_count": 13,
   "metadata": {},
   "outputs": [],
   "source": [
    "# Eliminamos valores nulos\n",
    "\n",
    "df.dropna(inplace=True)\n",
    "df_test.dropna(inplace=True)"
   ]
  },
  {
   "cell_type": "code",
   "execution_count": 14,
   "metadata": {},
   "outputs": [],
   "source": [
    "promedio= df['price'].mean()"
   ]
  },
  {
   "cell_type": "code",
   "execution_count": 15,
   "metadata": {},
   "outputs": [],
   "source": [
    "df['target']= df['price'] < promedio"
   ]
  },
  {
   "cell_type": "code",
   "execution_count": null,
   "metadata": {},
   "outputs": [],
   "source": [
    "df.drop(columns='price', inplace=True)"
   ]
  },
  {
   "cell_type": "code",
   "execution_count": 16,
   "metadata": {},
   "outputs": [],
   "source": [
    "# Creamos con dataframe con variables dummies para obtener valores binarios\n",
    "\n",
    "df= pd.get_dummies(df,columns=['currency','property_type','target'], drop_first=True)\n",
    "df_test=pd.get_dummies(df_test,columns=['currency','property_type'], drop_first=True)"
   ]
  },
  {
   "cell_type": "code",
   "execution_count": 333,
   "metadata": {},
   "outputs": [
    {
     "name": "stderr",
     "output_type": "stream",
     "text": [
      "Fitting 9 distributions: 100%|██████████| 9/9 [00:11<00:00,  1.33s/it]\n"
     ]
    },
    {
     "data": {
      "text/html": [
       "<div>\n",
       "<style scoped>\n",
       "    .dataframe tbody tr th:only-of-type {\n",
       "        vertical-align: middle;\n",
       "    }\n",
       "\n",
       "    .dataframe tbody tr th {\n",
       "        vertical-align: top;\n",
       "    }\n",
       "\n",
       "    .dataframe thead th {\n",
       "        text-align: right;\n",
       "    }\n",
       "</style>\n",
       "<table border=\"1\" class=\"dataframe\">\n",
       "  <thead>\n",
       "    <tr style=\"text-align: right;\">\n",
       "      <th></th>\n",
       "      <th>sumsquare_error</th>\n",
       "      <th>aic</th>\n",
       "      <th>bic</th>\n",
       "      <th>kl_div</th>\n",
       "      <th>ks_statistic</th>\n",
       "      <th>ks_pvalue</th>\n",
       "    </tr>\n",
       "  </thead>\n",
       "  <tbody>\n",
       "    <tr>\n",
       "      <th>cauchy</th>\n",
       "      <td>1.316123e-17</td>\n",
       "      <td>4582.330958</td>\n",
       "      <td>-6.960508e+06</td>\n",
       "      <td>0.186672</td>\n",
       "      <td>0.173151</td>\n",
       "      <td>0.0</td>\n",
       "    </tr>\n",
       "    <tr>\n",
       "      <th>gamma</th>\n",
       "      <td>1.337498e-17</td>\n",
       "      <td>4464.916901</td>\n",
       "      <td>-6.958285e+06</td>\n",
       "      <td>0.228057</td>\n",
       "      <td>0.100204</td>\n",
       "      <td>0.0</td>\n",
       "    </tr>\n",
       "    <tr>\n",
       "      <th>beta</th>\n",
       "      <td>1.346759e-17</td>\n",
       "      <td>4464.571581</td>\n",
       "      <td>-6.957326e+06</td>\n",
       "      <td>0.230575</td>\n",
       "      <td>0.100763</td>\n",
       "      <td>0.0</td>\n",
       "    </tr>\n",
       "    <tr>\n",
       "      <th>expon</th>\n",
       "      <td>2.227596e-17</td>\n",
       "      <td>4435.162702</td>\n",
       "      <td>-6.888261e+06</td>\n",
       "      <td>0.401237</td>\n",
       "      <td>0.146035</td>\n",
       "      <td>0.0</td>\n",
       "    </tr>\n",
       "    <tr>\n",
       "      <th>logistic</th>\n",
       "      <td>2.351965e-17</td>\n",
       "      <td>4558.403514</td>\n",
       "      <td>-6.880803e+06</td>\n",
       "      <td>0.342208</td>\n",
       "      <td>0.159329</td>\n",
       "      <td>0.0</td>\n",
       "    </tr>\n",
       "    <tr>\n",
       "      <th>exponpow</th>\n",
       "      <td>2.353606e-17</td>\n",
       "      <td>4431.964436</td>\n",
       "      <td>-6.880695e+06</td>\n",
       "      <td>0.441804</td>\n",
       "      <td>0.145355</td>\n",
       "      <td>0.0</td>\n",
       "    </tr>\n",
       "    <tr>\n",
       "      <th>norm</th>\n",
       "      <td>2.925190e-17</td>\n",
       "      <td>4515.776073</td>\n",
       "      <td>-6.850858e+06</td>\n",
       "      <td>0.485374</td>\n",
       "      <td>0.192496</td>\n",
       "      <td>0.0</td>\n",
       "    </tr>\n",
       "    <tr>\n",
       "      <th>powerlaw</th>\n",
       "      <td>3.791957e-17</td>\n",
       "      <td>4331.761706</td>\n",
       "      <td>-6.815216e+06</td>\n",
       "      <td>0.912742</td>\n",
       "      <td>0.252567</td>\n",
       "      <td>0.0</td>\n",
       "    </tr>\n",
       "    <tr>\n",
       "      <th>chi2</th>\n",
       "      <td>6.367745e-17</td>\n",
       "      <td>inf</td>\n",
       "      <td>-6.744050e+06</td>\n",
       "      <td>NaN</td>\n",
       "      <td>0.999985</td>\n",
       "      <td>0.0</td>\n",
       "    </tr>\n",
       "  </tbody>\n",
       "</table>\n",
       "</div>"
      ],
      "text/plain": [
       "          sumsquare_error          aic           bic    kl_div  ks_statistic  \\\n",
       "cauchy       1.316123e-17  4582.330958 -6.960508e+06  0.186672      0.173151   \n",
       "gamma        1.337498e-17  4464.916901 -6.958285e+06  0.228057      0.100204   \n",
       "beta         1.346759e-17  4464.571581 -6.957326e+06  0.230575      0.100763   \n",
       "expon        2.227596e-17  4435.162702 -6.888261e+06  0.401237      0.146035   \n",
       "logistic     2.351965e-17  4558.403514 -6.880803e+06  0.342208      0.159329   \n",
       "exponpow     2.353606e-17  4431.964436 -6.880695e+06  0.441804      0.145355   \n",
       "norm         2.925190e-17  4515.776073 -6.850858e+06  0.485374      0.192496   \n",
       "powerlaw     3.791957e-17  4331.761706 -6.815216e+06  0.912742      0.252567   \n",
       "chi2         6.367745e-17          inf -6.744050e+06       NaN      0.999985   \n",
       "\n",
       "          ks_pvalue  \n",
       "cauchy          0.0  \n",
       "gamma           0.0  \n",
       "beta            0.0  \n",
       "expon           0.0  \n",
       "logistic        0.0  \n",
       "exponpow        0.0  \n",
       "norm            0.0  \n",
       "powerlaw        0.0  \n",
       "chi2            0.0  "
      ]
     },
     "execution_count": 333,
     "metadata": {},
     "output_type": "execute_result"
    }
   ],
   "source": [
    "# Analizamos las distribuciones\n",
    "\n",
    "distribuciones = ['cauchy', 'chi2', 'expon',  'exponpow', 'gamma',\n",
    "                  'norm', 'powerlaw', 'beta', 'logistic']\n",
    "\n",
    "fitter = Fitter(df['price'], distributions=distribuciones)\n",
    "fitter.fit()\n",
    "fitter.summary(Nbest=10, plot=False)"
   ]
  },
  {
   "cell_type": "code",
   "execution_count": 59,
   "metadata": {},
   "outputs": [],
   "source": [
    "y= df['target_True'].values\n",
    "\n",
    "X=df.drop('target_True', axis=1).values"
   ]
  },
  {
   "cell_type": "code",
   "execution_count": 60,
   "metadata": {},
   "outputs": [
    {
     "data": {
      "text/plain": [
       "0.7506024910470956"
      ]
     },
     "execution_count": 60,
     "metadata": {},
     "output_type": "execute_result"
    }
   ],
   "source": [
    "#Realizamos el entrenamiento y la prediccion del archivo \"properties_colombia_train.csv\"\n",
    "\n",
    "X_train, X_test, y_train, y_test = train_test_split(X, y, test_size=0.3, random_state=1234)\n",
    "\n",
    "knn= KNeighborsClassifier(n_neighbors=6)\n",
    "knn.fit(X_train, y_train)\n",
    "y_predict= knn.predict(X_test)\n",
    "knn.score(X_test, y_test)\n",
    "\n"
   ]
  },
  {
   "cell_type": "code",
   "execution_count": 65,
   "metadata": {},
   "outputs": [
    {
     "name": "stdout",
     "output_type": "stream",
     "text": [
      "0.8124534794818217\n"
     ]
    }
   ],
   "source": [
    "# Realizamos una validacion cruzada \n",
    "cv_scores= cross_val_score(knn, X, y, cv=5, scoring='roc_auc')\n",
    "print(cv_scores.mean())"
   ]
  },
  {
   "cell_type": "code",
   "execution_count": 57,
   "metadata": {},
   "outputs": [],
   "source": [
    "# Realizamos la prediccion con el archivo \"properties_colombia_test.csv\"\n",
    "X= df_test.values\n",
    "y_predict= knn.predict(X)"
   ]
  },
  {
   "cell_type": "code",
   "execution_count": 66,
   "metadata": {},
   "outputs": [
    {
     "data": {
      "text/plain": [
       "array([[10334,  5030],\n",
       "       [ 6043, 22992]], dtype=int64)"
      ]
     },
     "execution_count": 66,
     "metadata": {},
     "output_type": "execute_result"
    }
   ],
   "source": [
    "confusion_matrix(y_test, y_predict)"
   ]
  },
  {
   "cell_type": "code",
   "execution_count": 67,
   "metadata": {},
   "outputs": [
    {
     "data": {
      "text/plain": [
       "'              precision    recall  f1-score   support\\n\\n           0       0.63      0.67      0.65     15364\\n           1       0.82      0.79      0.81     29035\\n\\n    accuracy                           0.75     44399\\n   macro avg       0.73      0.73      0.73     44399\\nweighted avg       0.75      0.75      0.75     44399\\n'"
      ]
     },
     "execution_count": 67,
     "metadata": {},
     "output_type": "execute_result"
    }
   ],
   "source": [
    "classification_report(y_test, y_predict)"
   ]
  },
  {
   "cell_type": "code",
   "execution_count": null,
   "metadata": {},
   "outputs": [],
   "source": [
    "# Guardamos el resutaldo de la prediccion\n",
    "\n",
    "guardado= pd.DataFrame({'pred':y_predict})\n",
    "guardado.to_csv('Lonelywolf2701.csv', index=False)\n"
   ]
  }
 ],
 "metadata": {
  "kernelspec": {
   "display_name": "Python 3.10.2 64-bit",
   "language": "python",
   "name": "python3"
  },
  "language_info": {
   "codemirror_mode": {
    "name": "ipython",
    "version": 3
   },
   "file_extension": ".py",
   "mimetype": "text/x-python",
   "name": "python",
   "nbconvert_exporter": "python",
   "pygments_lexer": "ipython3",
   "version": "3.10.2"
  },
  "orig_nbformat": 4,
  "vscode": {
   "interpreter": {
    "hash": "1246694dc7316f07cec3524aa6b4295b1903c31ab4d61a134437edef1ded0b61"
   }
  }
 },
 "nbformat": 4,
 "nbformat_minor": 2
}
